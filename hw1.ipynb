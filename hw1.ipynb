{
 "cells": [
  {
   "cell_type": "code",
   "execution_count": 20,
   "metadata": {},
   "outputs": [],
   "source": [
    "import random\n",
    "from datetime import datetime\n",
    "\n",
    "\n",
    "class Portfolio(object):\n",
    "    def __init__(self):\n",
    "        self.cash = 0.00\n",
    "        self.stocks = {}\n",
    "        self.mutualFunds = {}\n",
    "        self.tx = {}\n",
    "        self.addTx(\"Portfolio initialized.\")\n",
    "        \n",
    "    def __str__(self):\n",
    "        return \"cash: {}\\nstocks: {}\\nmutual funds: {}\".format(self.cash, self.stocks, self.mutualFunds)\n",
    "    \n",
    "    def addTx(self, text):\n",
    "        now = datetime.now()\n",
    "        dt_string = now.strftime(\"%d/%m/%Y %H:%M:%S:%MS\")\n",
    "        self.tx[\"{} - {}\".format(len(self.tx),dt_string)] = text\n",
    "    \n",
    "    def addCash(self, amount):\n",
    "        self.cash += amount\n",
    "        self.addTx(\"Added {} dollars to the porfolio.\".format(amount))\n",
    "        \n",
    "    def withdrawCash(self, amount):\n",
    "        self.cash -= amount\n",
    "        self.addTx(\"Removed {} dollars from the porfolio.\".format(amount))\n",
    "    \n",
    "    def buyMutualFund(self, amount, mf):\n",
    "        cost = amount\n",
    "        if cost > self.cash:\n",
    "            print(\"Insufficient cash - Available: {} / Required: {} \".format(self.cash,cost))\n",
    "            self.addTx(\"Failed buy order: {} shares of {} | Available: {} / Required: {} \".format(amount, mf.ticker, self.cash, cost))\n",
    "        else:\n",
    "            self.cash -= cost\n",
    "            if mf.ticker in self.mutualFunds:\n",
    "                self.mutualFunds[mf.ticker] = (self.mutualFunds[mf.ticker][0] + amount, cost)\n",
    "            else:\n",
    "                self.mutualFunds[mf.ticker] = (amount, cost)\n",
    "            print(\"Mutual fund added to the porfolio: {} shares of {}. \".format(amount,mf.ticker))\n",
    "            print(\"Cost of the purchase: \", cost)\n",
    "            print(\"Cash before the purchase: \", self.cash + cost)\n",
    "            print(\"Cash after the purchase: \", self.cash)\n",
    "            self.addTx(\"Bought {} shares of {} for {} dollars.\".format(amount,mf.ticker,cost))\n",
    "    \n",
    "    def sellMutualFund(self, ticker, amount):\n",
    "        if ticker in self.mutualFunds.keys():\n",
    "            if self.mutualFunds[ticker][0] >= amount:\n",
    "                received = random.uniform(0.9,1.2) * amount * self.mutualFunds[ticker][1]\n",
    "                self.cash += received\n",
    "                self.mutualFunds[ticker] = (self.mutualFunds[ticker][0] - amount, self.mutualFunds[ticker][1])\n",
    "                print(\"Mutual Fund removed from the porfolio: {} shares of {}. \".format(amount,ticker))\n",
    "                print(\"Received amount from the sale: \", received)\n",
    "                print(\"Cash before the sale: \", self.cash - received)\n",
    "                print(\"Cash after the sale: \", self.cash)\n",
    "                self.addTx(\"Sold {} shares of {} for {} dollars.\".format(amount,ticker,received))\n",
    "            else: #wrong amount\n",
    "                print(\"ERROR: Wrong share amount\")\n",
    "                self.addTx(\"ERROR: Wrong share amount - sellMutualFund\")\n",
    "        else:\n",
    "            print(\"ERROR: There isn't any Mutual Fund with ticker '{}' in the portfolio\".format(ticker))\n",
    "            self.addTx(\"ERROR: Portfolio does not have {}, could not sell.\".format(ticker))            \n",
    "        \n",
    "    def buyStock(self, amount, stock):\n",
    "        cost = stock.price * amount\n",
    "        if cost > self.cash:\n",
    "            print(\"Insufficient cash - Available: {} / Required: {} \".format(self.cash,cost))\n",
    "            self.addTx(\"Failed buy order: {} shares of {} | Available: {} / Required: {} \".format(amount, stock, self.cash, cost))\n",
    "        else:\n",
    "            self.cash -= cost\n",
    "            if stock.ticker in self.stocks:\n",
    "                presentAmount = self.stocks[stock.ticker][0]\n",
    "                averagedCost = ((presentAmount * self.stocks[stock.ticker][1]) + (amount * stock.price)) / (presentAmount + amount)\n",
    "                self.stocks[stock.ticker] = (self.stocks[stock.ticker][0] + amount, averagedCost)\n",
    "                \n",
    "            else:\n",
    "                self.stocks[stock.ticker] = (amount, stock.price)\n",
    "            print(\"Stock added to the porfolio: {} shares of {}. \".format(amount,stock.ticker))\n",
    "            print(\"Cost of the purchase: \", cost)\n",
    "            print(\"Cash before the purchase: \", self.cash + cost)\n",
    "            print(\"Cash after the purchase: \", self.cash)\n",
    "            self.addTx(\"Bought {} shares of {} for {} dollars.\".format(amount,stock.ticker,cost))\n",
    "            \n",
    "    def sellStock(self, ticker, amount):\n",
    "        if ticker in self.stocks.keys():\n",
    "            if self.stocks[ticker][0] >= amount:\n",
    "                received = random.uniform(0.5,1.5) * amount * self.stocks[ticker][1]\n",
    "                self.cash += received\n",
    "                self.stocks[ticker] = (self.stocks[ticker][0] - amount, self.stocks[ticker][1])\n",
    "                print(\"Stock removed from the porfolio: {} shares of {}. \".format(amount,ticker))\n",
    "                print(\"Received amount from the sale: \", received)\n",
    "                print(\"Cash before the sale: \", self.cash - received)\n",
    "                print(\"Cash after the sale: \", self.cash)\n",
    "                self.addTx(\"Sold {} shares of {} for {} dollars.\".format(amount,ticker,received))\n",
    "            else: #wrong amount\n",
    "                print(\"ERROR: Wrong share amount\")\n",
    "                self.addTx(\"ERROR: Wrong share amount - sellStock\")\n",
    "        else:\n",
    "            print(\"ERROR: There isn't any stock with ticker '{}' in the portfolio\".format(ticker))\n",
    "            self.addTx(\"ERROR: Portfolio does not have {}, could not sell.\".format(ticker))\n",
    "            \n",
    "            \n",
    "class Stock(object):\n",
    "    def __init__(self, price, ticker):\n",
    "        self.price = price\n",
    "        self.ticker = ticker\n",
    "\n",
    "class MutualFund(object):\n",
    "    def __init__(self, ticker):\n",
    "        self.ticker = ticker\n",
    "    "
   ]
  },
  {
   "cell_type": "code",
   "execution_count": 21,
   "metadata": {},
   "outputs": [],
   "source": [
    "my_portfolio = Portfolio()"
   ]
  },
  {
   "cell_type": "code",
   "execution_count": 22,
   "metadata": {},
   "outputs": [],
   "source": [
    "my_portfolio.addCash(61.61)"
   ]
  },
  {
   "cell_type": "code",
   "execution_count": 23,
   "metadata": {},
   "outputs": [],
   "source": [
    "s1 = Stock(10,\"FUAT\")"
   ]
  },
  {
   "cell_type": "code",
   "execution_count": 24,
   "metadata": {},
   "outputs": [
    {
     "name": "stdout",
     "output_type": "stream",
     "text": [
      "Stock added to the porfolio: 3 shares of FUAT. \n",
      "Cost of the purchase:  30\n",
      "Cash before the purchase:  61.61\n",
      "Cash after the purchase:  31.61\n"
     ]
    }
   ],
   "source": [
    "my_portfolio.buyStock(3,s1)"
   ]
  },
  {
   "cell_type": "code",
   "execution_count": 25,
   "metadata": {},
   "outputs": [
    {
     "name": "stdout",
     "output_type": "stream",
     "text": [
      "Stock removed from the porfolio: 2 shares of FUAT. \n",
      "Received amount from the sale:  10.925005057083029\n",
      "Cash before the sale:  31.61\n",
      "Cash after the sale:  42.535005057083026\n"
     ]
    }
   ],
   "source": [
    "my_portfolio.sellStock(\"FUAT\",2)"
   ]
  },
  {
   "cell_type": "code",
   "execution_count": 26,
   "metadata": {},
   "outputs": [
    {
     "data": {
      "text/plain": [
       "{'FUAT': (1, 10)}"
      ]
     },
     "execution_count": 26,
     "metadata": {},
     "output_type": "execute_result"
    }
   ],
   "source": [
    "my_portfolio.stocks"
   ]
  },
  {
   "cell_type": "code",
   "execution_count": 27,
   "metadata": {},
   "outputs": [],
   "source": [
    "s2 = Stock(12,\"FUAT\")"
   ]
  },
  {
   "cell_type": "code",
   "execution_count": 28,
   "metadata": {},
   "outputs": [
    {
     "name": "stdout",
     "output_type": "stream",
     "text": [
      "Stock added to the porfolio: 2 shares of FUAT. \n",
      "Cost of the purchase:  24\n",
      "Cash before the purchase:  42.535005057083026\n",
      "Cash after the purchase:  18.535005057083026\n"
     ]
    }
   ],
   "source": [
    "my_portfolio.buyStock(2,s2)"
   ]
  },
  {
   "cell_type": "code",
   "execution_count": 29,
   "metadata": {},
   "outputs": [
    {
     "data": {
      "text/plain": [
       "{'FUAT': (3, 11.333333333333334)}"
      ]
     },
     "execution_count": 29,
     "metadata": {},
     "output_type": "execute_result"
    }
   ],
   "source": [
    "my_portfolio.stocks"
   ]
  },
  {
   "cell_type": "code",
   "execution_count": 30,
   "metadata": {},
   "outputs": [
    {
     "data": {
      "text/plain": [
       "{'0 - 14/02/2020 23:09:36:09S': 'Portfolio initialized.',\n",
       " '1 - 14/02/2020 23:09:36:09S': 'Added 61.61 dollars to the porfolio.',\n",
       " '2 - 14/02/2020 23:09:37:09S': 'Bought 3 shares of FUAT for 30 dollars.',\n",
       " '3 - 14/02/2020 23:09:37:09S': 'Sold 2 shares of FUAT for 10.925005057083029 dollars.',\n",
       " '4 - 14/02/2020 23:09:37:09S': 'Bought 2 shares of FUAT for 24 dollars.'}"
      ]
     },
     "execution_count": 30,
     "metadata": {},
     "output_type": "execute_result"
    }
   ],
   "source": [
    "my_portfolio.tx"
   ]
  },
  {
   "cell_type": "code",
   "execution_count": 31,
   "metadata": {},
   "outputs": [],
   "source": [
    "m2 = MutualFund(\"BRT\")"
   ]
  },
  {
   "cell_type": "code",
   "execution_count": 32,
   "metadata": {},
   "outputs": [
    {
     "name": "stdout",
     "output_type": "stream",
     "text": [
      "Mutual fund added to the porfolio: 10.3 shares of BRT. \n",
      "Cost of the purchase:  10.3\n",
      "Cash before the purchase:  18.535005057083026\n",
      "Cash after the purchase:  8.235005057083026\n"
     ]
    }
   ],
   "source": [
    "my_portfolio.buyMutualFund(10.3,m2)"
   ]
  },
  {
   "cell_type": "code",
   "execution_count": 33,
   "metadata": {},
   "outputs": [
    {
     "data": {
      "text/plain": [
       "{'0 - 14/02/2020 23:09:36:09S': 'Portfolio initialized.',\n",
       " '1 - 14/02/2020 23:09:36:09S': 'Added 61.61 dollars to the porfolio.',\n",
       " '2 - 14/02/2020 23:09:37:09S': 'Bought 3 shares of FUAT for 30 dollars.',\n",
       " '3 - 14/02/2020 23:09:37:09S': 'Sold 2 shares of FUAT for 10.925005057083029 dollars.',\n",
       " '4 - 14/02/2020 23:09:37:09S': 'Bought 2 shares of FUAT for 24 dollars.',\n",
       " '5 - 14/02/2020 23:09:38:09S': 'Bought 10.3 shares of BRT for 10.3 dollars.'}"
      ]
     },
     "execution_count": 33,
     "metadata": {},
     "output_type": "execute_result"
    }
   ],
   "source": [
    "my_portfolio.tx"
   ]
  },
  {
   "cell_type": "code",
   "execution_count": 34,
   "metadata": {},
   "outputs": [
    {
     "name": "stdout",
     "output_type": "stream",
     "text": [
      "Mutual Fund removed from the porfolio: 3 shares of BRT. \n",
      "Received amount from the sale:  34.950684411386014\n",
      "Cash before the sale:  8.235005057083022\n",
      "Cash after the sale:  43.185689468469036\n"
     ]
    }
   ],
   "source": [
    "my_portfolio.sellMutualFund(\"BRT\",3)"
   ]
  },
  {
   "cell_type": "code",
   "execution_count": 35,
   "metadata": {},
   "outputs": [],
   "source": [
    "my_portfolio.withdrawCash(9.04026)"
   ]
  },
  {
   "cell_type": "code",
   "execution_count": 36,
   "metadata": {},
   "outputs": [
    {
     "data": {
      "text/plain": [
       "34.14542946846903"
      ]
     },
     "execution_count": 36,
     "metadata": {},
     "output_type": "execute_result"
    }
   ],
   "source": [
    "my_portfolio.cash"
   ]
  },
  {
   "cell_type": "code",
   "execution_count": 39,
   "metadata": {},
   "outputs": [
    {
     "name": "stdout",
     "output_type": "stream",
     "text": [
      "cash: 29.145429468469032\n",
      "stocks: {'FUAT': (3, 11.333333333333334)}\n",
      "mutual funds: {'BRT': (7.300000000000001, 10.3), 'ZAA': (5, 5)}\n"
     ]
    }
   ],
   "source": [
    "print(my_portfolio)"
   ]
  },
  {
   "cell_type": "code",
   "execution_count": 38,
   "metadata": {},
   "outputs": [
    {
     "name": "stdout",
     "output_type": "stream",
     "text": [
      "Mutual fund added to the porfolio: 5 shares of ZAA. \n",
      "Cost of the purchase:  5\n",
      "Cash before the purchase:  34.14542946846903\n",
      "Cash after the purchase:  29.145429468469032\n"
     ]
    }
   ],
   "source": [
    "m1 = MutualFund(\"ZAA\")\n",
    "my_portfolio.buyMutualFund(5,m1)"
   ]
  },
  {
   "cell_type": "code",
   "execution_count": null,
   "metadata": {},
   "outputs": [],
   "source": []
  }
 ],
 "metadata": {
  "kernelspec": {
   "display_name": "Python 3",
   "language": "python",
   "name": "python3"
  },
  "language_info": {
   "codemirror_mode": {
    "name": "ipython",
    "version": 3
   },
   "file_extension": ".py",
   "mimetype": "text/x-python",
   "name": "python",
   "nbconvert_exporter": "python",
   "pygments_lexer": "ipython3",
   "version": "3.7.4"
  }
 },
 "nbformat": 4,
 "nbformat_minor": 2
}
